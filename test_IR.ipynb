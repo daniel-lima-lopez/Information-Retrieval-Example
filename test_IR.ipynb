{
 "cells": [
  {
   "cell_type": "code",
   "execution_count": 1,
   "metadata": {},
   "outputs": [],
   "source": [
    "import numpy as np\n",
    "import pandas as pd"
   ]
  },
  {
   "cell_type": "code",
   "execution_count": 41,
   "metadata": {},
   "outputs": [],
   "source": [
    "class IR:\n",
    "    def __init__(self, data_path='shortjokes.csv', postings_path='postings.txt'):\n",
    "        self.data = pd.read_csv('shortjokes.csv')\n",
    "        self.jokes = self.data['Joke']\n",
    "        self.postings = {} # empty dictionary\n",
    "    \n",
    "        # create the posting dictionary \n",
    "        with open(postings_path, 'r') as t:\n",
    "            lines = t.readlines()\n",
    "            for li in lines:\n",
    "                key = li.split(' ')[0]\n",
    "                inds = li.split(' ')[1]\n",
    "                #print(key, inds)\n",
    "                \n",
    "                auxs = set()\n",
    "                for id in inds.split(','):\n",
    "                    auxs.add(int(id))\n",
    "                self.postings[key] = auxs\n",
    "        \n",
    "        # auxiliary set containing all indices\n",
    "        self.all_set = set()\n",
    "        for i in range(len(self.jokes)):\n",
    "            self.all_set.add(i)\n",
    "        #print(self.all_set)\n",
    "\n",
    "    def get_not(self, token):\n",
    "        posting = self.postings[token]\n",
    "        return self.all_set-posting # sets difference operation\n",
    "    \n",
    "    def filter(self, comand):\n",
    "        # ops = [] # operations indexes (and, or)\n",
    "        # nots = [] # negation indexes (not)\n",
    "        # tokens = [] # indexes of tokens\n",
    "\n",
    "        # split = comand.split(' ')\n",
    "        # for i, pi in enumerate(split):\n",
    "        #     if pi in ['and', 'or']:\n",
    "        #         ops.append(i)\n",
    "        #     elif pi=='not':\n",
    "        #         nots.append(i)\n",
    "        #     else:\n",
    "        #         tokens.append(i)\n",
    "        # print(ops, nots, tokens)\n",
    "\n",
    "        split = comand.split(' ')\n",
    "        #print(f'split: {split}')\n",
    "        out_set = set() # empty set\n",
    "        i = 0 # word's pointer\n",
    "        while i<len(split): # while theres is still words on comand\n",
    "            #identify next operation\n",
    "            if i==0:\n",
    "                next_op = 'or'\n",
    "            else:\n",
    "                next_op = split[i]\n",
    "                i += 1\n",
    "            \n",
    "            #print(f'next op: {next_op}')\n",
    "            \n",
    "            # identify next set\n",
    "            if split[i]=='not':\n",
    "                next_set = self.get_not(split[i+1])\n",
    "                i += 2\n",
    "            else:\n",
    "                next_set = self.postings[split[i]]\n",
    "                i += 1\n",
    "            \n",
    "            #print(f'next set: {next_set}')\n",
    "            \n",
    "            # perform set operations\n",
    "            if next_op == 'and':\n",
    "                out_set = out_set & next_set\n",
    "            elif next_op == 'or':\n",
    "                out_set = out_set | next_set\n",
    "\n",
    "        return out_set\n",
    "    \n",
    "    def get_jokes(self, ids):\n",
    "        outs = [self.jokes[i] for i in ids]\n",
    "        return outs"
   ]
  },
  {
   "cell_type": "code",
   "execution_count": 42,
   "metadata": {},
   "outputs": [],
   "source": [
    "test = IR()\n",
    "#test.postings"
   ]
  },
  {
   "cell_type": "code",
   "execution_count": 43,
   "metadata": {},
   "outputs": [
    {
     "data": {
      "text/plain": [
       "[\"I have a dog named Hot-Dog. Isn't funny? hahahaha....\",\n",
       " \"You know what cats don't like? Blow dryers. You know what's funny? Pointing your blow dryer at your cat. Anyway, I lost an eye today.\",\n",
       " \"I use my neighbor's outdoor jacuzzi for bubble bath time with my cat. I'd invite him, but my cat's funny about bathing with strangers.\",\n",
       " 'What diagnosis did the veterinarian give to the dog with the funny walk? The dog has cerebral pawlsy.',\n",
       " \"No wonder my cigar tastes funny. It's just a really old hot dog.\",\n",
       " 'A funny thing to do when someone\\'s dog barks at you is say, \"I don\\'t speak dog,\" and then when they leave the room, speak dog fluently.',\n",
       " \"Bad news, guys. Throwing a cat through a wall doesn't make a funny, cat-shaped hole. Not even close.\",\n",
       " 'My 1-year-old thought it was funny to put food in my mouth. It was cute with Skittles. Then she switched to dog food.',\n",
       " 'My Dad\\'s cat had a hernia operation The cat was laying there next to next to me and I asked \" What did they sew you up with?\" My Dad laughing so hard - as he said \"That\\'s not funny!\" [Cat Gut]',\n",
       " \"Me:Did you have a ruff day? Dog: Me:What? That was funny! Dog: Me:Do you not like puns? Dog: Me:I think I'm high. Dog:Did you smoke my weed?\",\n",
       " 'Funny how we say \"I drank a *pot* of coffee\" instead of \"I drank fourteen cups of coffee and chased the cat around the hot tub with a sword\"',\n",
       " 'Only funny if you own a dog: I think my dog must have a very cold nose. Every time it walks into a room, all the other dogs sit down.',\n",
       " \"It's funny how you think it's your cat leaving all those dead birds on your doorstep.\",\n",
       " \"It's Christmas and I'm alone (again), Reddit. Tell me something funny Well, I have my dog at least. Fire some shit away!\"]"
      ]
     },
     "execution_count": 43,
     "metadata": {},
     "output_type": "execute_result"
    }
   ],
   "source": [
    "inds = test.filter('cat or dog and funny')\n",
    "jokes = test.get_jokes(inds)\n",
    "jokes"
   ]
  }
 ],
 "metadata": {
  "kernelspec": {
   "display_name": "tf",
   "language": "python",
   "name": "python3"
  },
  "language_info": {
   "codemirror_mode": {
    "name": "ipython",
    "version": 3
   },
   "file_extension": ".py",
   "mimetype": "text/x-python",
   "name": "python",
   "nbconvert_exporter": "python",
   "pygments_lexer": "ipython3",
   "version": "3.9.19"
  }
 },
 "nbformat": 4,
 "nbformat_minor": 2
}
