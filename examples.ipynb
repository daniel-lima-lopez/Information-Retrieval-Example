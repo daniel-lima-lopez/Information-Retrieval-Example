{
 "cells": [
  {
   "cell_type": "markdown",
   "metadata": {},
   "source": [
    "# Examples of use\n",
    "In this notebook it is presented the examples of the repository [Information-Retrieval-Example](https://github.com/daniel-lima-lopez/Information-Retrieval-Example)."
   ]
  },
  {
   "cell_type": "code",
   "execution_count": 2,
   "metadata": {},
   "outputs": [],
   "source": [
    "from IR import Searcher"
   ]
  },
  {
   "cell_type": "markdown",
   "metadata": {},
   "source": [
    "## First example\n",
    "Given the input: dog or cat and funny and not smoke"
   ]
  },
  {
   "cell_type": "code",
   "execution_count": 18,
   "metadata": {},
   "outputs": [
    {
     "name": "stdout",
     "output_type": "stream",
     "text": [
      "Results:\n",
      " - You know what cats don't like? Blow dryers. You know what's funny? Pointing your blow dryer at your cat. Anyway, I lost an eye today.\n",
      " - I have a dog named Hot-Dog. Isn't funny? hahahaha....\n",
      " - I use my neighbor's outdoor jacuzzi for bubble bath time with my cat. I'd invite him, but my cat's funny about bathing with strangers.\n",
      " - What diagnosis did the veterinarian give to the dog with the funny walk? The dog has cerebral pawlsy.\n",
      " - No wonder my cigar tastes funny. It's just a really old hot dog.\n",
      " - A funny thing to do when someone's dog barks at you is say, \"I don't speak dog,\" and then when they leave the room, speak dog fluently.\n",
      " - Bad news, guys. Throwing a cat through a wall doesn't make a funny, cat-shaped hole. Not even close.\n",
      " - My 1-year-old thought it was funny to put food in my mouth. It was cute with Skittles. Then she switched to dog food.\n",
      " - My Dad's cat had a hernia operation The cat was laying there next to next to me and I asked \" What did they sew you up with?\" My Dad laughing so hard - as he said \"That's not funny!\" [Cat Gut]\n",
      " - Funny how we say \"I drank a *pot* of coffee\" instead of \"I drank fourteen cups of coffee and chased the cat around the hot tub with a sword\"\n",
      " - Only funny if you own a dog: I think my dog must have a very cold nose. Every time it walks into a room, all the other dogs sit down.\n",
      " - It's funny how you think it's your cat leaving all those dead birds on your doorstep.\n",
      " - It's Christmas and I'm alone (again), Reddit. Tell me something funny Well, I have my dog at least. Fire some shit away!\n"
     ]
    }
   ],
   "source": [
    "test = Searcher() # instantiate the Searcher class\n",
    "command = input('Enter a valid command: ') # command\n",
    "inds = test.filter(command) # indexes resulting from the input command\n",
    "jokes = test.get_jokes(inds)\n",
    "\n",
    "print('Results:')\n",
    "for ji in jokes:\n",
    "    print(f' - {ji}')"
   ]
  },
  {
   "cell_type": "markdown",
   "metadata": {},
   "source": [
    "## Second example\n",
    "Given the command: (computer or laptop) and (sad or amazing)\n"
   ]
  },
  {
   "cell_type": "code",
   "execution_count": 59,
   "metadata": {},
   "outputs": [
    {
     "name": "stdout",
     "output_type": "stream",
     "text": [
      "Results:\n",
      " - Why is the Computer D Drive always sad? D:\n",
      " - Today was a sad day - we had to pull the plug on my granpa cause I needed the outlet for my laptop\n",
      " - Why was the middle aged computer sad? He had a floppy disc.\n",
      " - What do you call a computer with an amazing singing voice? A Dell.\n",
      " - I should go outside and enjoy the amazing weather but my computer cord isn't long enough.\n",
      " - It's amazing how quickly reheated food in the microwave goes cold again when you think you're only going to be on the computer for a moment.\n",
      " - What kind of computer is optimized for sad songs? A Dell.\n",
      " - What do you call a computer that only plays sad songs? Adele\n"
     ]
    }
   ],
   "source": [
    "test = Searcher()\n",
    "ind1 = test.filter('computer or laptop')\n",
    "ind2 = test.filter('sad or amazing')\n",
    "jokes = test.get_jokes(ind1 & ind2)\n",
    "\n",
    "print('Results:')\n",
    "for ji in jokes:\n",
    "    print(f' - {ji}')"
   ]
  }
 ],
 "metadata": {
  "kernelspec": {
   "display_name": "tfGPU",
   "language": "python",
   "name": "python3"
  },
  "language_info": {
   "codemirror_mode": {
    "name": "ipython",
    "version": 3
   },
   "file_extension": ".py",
   "mimetype": "text/x-python",
   "name": "python",
   "nbconvert_exporter": "python",
   "pygments_lexer": "ipython3",
   "version": "3.9.19"
  }
 },
 "nbformat": 4,
 "nbformat_minor": 2
}
